{
  "nbformat": 4,
  "nbformat_minor": 0,
  "metadata": {
    "colab": {
      "provenance": [],
      "authorship_tag": "ABX9TyOv/5YADNgPNkmNlzX5rEST",
      "include_colab_link": true
    },
    "kernelspec": {
      "name": "python3",
      "display_name": "Python 3"
    },
    "language_info": {
      "name": "python"
    }
  },
  "cells": [
    {
      "cell_type": "markdown",
      "metadata": {
        "id": "view-in-github",
        "colab_type": "text"
      },
      "source": [
        "<a href=\"https://colab.research.google.com/github/MarcioAlex-x/AlexEventos/blob/master/cadastro_de_alunos_com_lista_simples.ipynb\" target=\"_parent\"><img src=\"https://colab.research.google.com/assets/colab-badge.svg\" alt=\"Open In Colab\"/></a>"
      ]
    },
    {
      "cell_type": "code",
      "execution_count": null,
      "metadata": {
        "id": "_BsD5pRfO27I"
      },
      "outputs": [],
      "source": [
        "lista_alunos=[]\n",
        "while True:\n",
        "    \n",
        "    print('''Opção 1: Cadastrar aluno(a)\n",
        "Opção 2: Atualizar de aluno(a)\n",
        "Opção 3: Excluir de cadastro de aluno(a)\n",
        "Opção 4: Pesquisar aluno(a)\n",
        "Opção 5: Ver lista de aluno(a)s cadastrado(a)s\n",
        "Opção 6: Sair ''')"
      ]
    },
    {
      "cell_type": "code",
      "source": [],
      "metadata": {
        "id": "v7KjuQh7Zi2z"
      },
      "execution_count": null,
      "outputs": []
    }
  ]
}